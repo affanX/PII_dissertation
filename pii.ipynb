{
 "cells": [
  {
   "cell_type": "markdown",
   "metadata": {},
   "source": [
    "# Table of Contents\n",
    "\n",
    "1. [Import Libraries](#import-libraries)\n",
    "2. [Load and Prepare Data](#load-and-prepare-data)\n",
    "3. [Convert Data to spaCy Format](#convert-data-to-spacy-format)\n",
    "4. [Initialize spaCy Model](#initialize-spacy-model)\n",
    "5. [Add labels to the NER model](#add-labels-to-the-ner-model)\n",
    "6. [Train the Mode](#train-the-mode)\n",
    "7. [Save the trained model](#save-the-trained-model)\n",
    "8. [Plot the training loss over iterations](#plot-the-training-loss-over-iterations)"
   ]
  },
  {
   "cell_type": "markdown",
   "metadata": {},
   "source": [
    "## Import Libraries"
   ]
  },
  {
   "cell_type": "code",
   "execution_count": 2,
   "metadata": {},
   "outputs": [],
   "source": [
    "# Import Libraries\n",
    "import spacy\n",
    "from spacy.tokens import DocBin\n",
    "from spacy.training import Example\n",
    "from tqdm import tqdm\n",
    "import ast\n",
    "import pandas as pd\n",
    "import os\n",
    "import matplotlib.pyplot as plt  # For visualization\n",
    "import seaborn as sns"
   ]
  },
  {
   "cell_type": "markdown",
   "metadata": {},
   "source": [
    "## Load and Prepare Data"
   ]
  },
  {
   "cell_type": "code",
   "execution_count": 6,
   "metadata": {},
   "outputs": [
    {
     "name": "stdout",
     "output_type": "stream",
     "text": [
      "Sample Data:\n"
     ]
    },
    {
     "data": {
      "text/html": [
       "<div>\n",
       "<style scoped>\n",
       "    .dataframe tbody tr th:only-of-type {\n",
       "        vertical-align: middle;\n",
       "    }\n",
       "\n",
       "    .dataframe tbody tr th {\n",
       "        vertical-align: top;\n",
       "    }\n",
       "\n",
       "    .dataframe thead th {\n",
       "        text-align: right;\n",
       "    }\n",
       "</style>\n",
       "<table border=\"1\" class=\"dataframe\">\n",
       "  <thead>\n",
       "    <tr style=\"text-align: right;\">\n",
       "      <th></th>\n",
       "      <th>document</th>\n",
       "      <th>full_text</th>\n",
       "      <th>tokens</th>\n",
       "      <th>trailing_whitespace</th>\n",
       "      <th>labels</th>\n",
       "    </tr>\n",
       "  </thead>\n",
       "  <tbody>\n",
       "    <tr>\n",
       "      <th>0</th>\n",
       "      <td>7</td>\n",
       "      <td>Design Thinking for innovation reflexion-Avril...</td>\n",
       "      <td>['Design', 'Thinking', 'for', 'innovation', 'r...</td>\n",
       "      <td>[True, True, True, True, False, False, True, F...</td>\n",
       "      <td>['O', 'O', 'O', 'O', 'O', 'O', 'O', 'O', 'O', ...</td>\n",
       "    </tr>\n",
       "    <tr>\n",
       "      <th>1</th>\n",
       "      <td>10</td>\n",
       "      <td>Diego Estrada\\n\\nDesign Thinking Assignment\\n\\...</td>\n",
       "      <td>['Diego', 'Estrada', '\\n\\n', 'Design', 'Thinki...</td>\n",
       "      <td>[True, False, False, True, True, False, False,...</td>\n",
       "      <td>['B-NAME_STUDENT', 'I-NAME_STUDENT', 'O', 'O',...</td>\n",
       "    </tr>\n",
       "    <tr>\n",
       "      <th>2</th>\n",
       "      <td>16</td>\n",
       "      <td>Reporting process\\n\\nby Gilberto Gamboa\\n\\nCha...</td>\n",
       "      <td>['Reporting', 'process', '\\n\\n', 'by', 'Gilber...</td>\n",
       "      <td>[True, False, False, True, True, False, False,...</td>\n",
       "      <td>['O', 'O', 'O', 'O', 'B-NAME_STUDENT', 'I-NAME...</td>\n",
       "    </tr>\n",
       "    <tr>\n",
       "      <th>3</th>\n",
       "      <td>20</td>\n",
       "      <td>Design Thinking for Innovation\\n\\nSindy Samaca...</td>\n",
       "      <td>['Design', 'Thinking', 'for', 'Innovation', '\\...</td>\n",
       "      <td>[True, True, True, False, False, True, False, ...</td>\n",
       "      <td>['O', 'O', 'O', 'O', 'O', 'B-NAME_STUDENT', 'I...</td>\n",
       "    </tr>\n",
       "    <tr>\n",
       "      <th>4</th>\n",
       "      <td>56</td>\n",
       "      <td>Assignment:  Visualization Reflection  Submitt...</td>\n",
       "      <td>['Assignment', ':', '\\xa0 ', 'Visualization', ...</td>\n",
       "      <td>[False, False, False, False, False, False, Fal...</td>\n",
       "      <td>['O', 'O', 'O', 'O', 'O', 'O', 'O', 'O', 'O', ...</td>\n",
       "    </tr>\n",
       "  </tbody>\n",
       "</table>\n",
       "</div>"
      ],
      "text/plain": [
       "   document                                          full_text  \\\n",
       "0         7  Design Thinking for innovation reflexion-Avril...   \n",
       "1        10  Diego Estrada\\n\\nDesign Thinking Assignment\\n\\...   \n",
       "2        16  Reporting process\\n\\nby Gilberto Gamboa\\n\\nCha...   \n",
       "3        20  Design Thinking for Innovation\\n\\nSindy Samaca...   \n",
       "4        56  Assignment:  Visualization Reflection  Submitt...   \n",
       "\n",
       "                                              tokens  \\\n",
       "0  ['Design', 'Thinking', 'for', 'innovation', 'r...   \n",
       "1  ['Diego', 'Estrada', '\\n\\n', 'Design', 'Thinki...   \n",
       "2  ['Reporting', 'process', '\\n\\n', 'by', 'Gilber...   \n",
       "3  ['Design', 'Thinking', 'for', 'Innovation', '\\...   \n",
       "4  ['Assignment', ':', '\\xa0 ', 'Visualization', ...   \n",
       "\n",
       "                                 trailing_whitespace  \\\n",
       "0  [True, True, True, True, False, False, True, F...   \n",
       "1  [True, False, False, True, True, False, False,...   \n",
       "2  [True, False, False, True, True, False, False,...   \n",
       "3  [True, True, True, False, False, True, False, ...   \n",
       "4  [False, False, False, False, False, False, Fal...   \n",
       "\n",
       "                                              labels  \n",
       "0  ['O', 'O', 'O', 'O', 'O', 'O', 'O', 'O', 'O', ...  \n",
       "1  ['B-NAME_STUDENT', 'I-NAME_STUDENT', 'O', 'O',...  \n",
       "2  ['O', 'O', 'O', 'O', 'B-NAME_STUDENT', 'I-NAME...  \n",
       "3  ['O', 'O', 'O', 'O', 'O', 'B-NAME_STUDENT', 'I...  \n",
       "4  ['O', 'O', 'O', 'O', 'O', 'O', 'O', 'O', 'O', ...  "
      ]
     },
     "metadata": {},
     "output_type": "display_data"
    },
    {
     "name": "stdout",
     "output_type": "stream",
     "text": [
      "\n",
      "Dataset Overview:\n",
      "<class 'pandas.core.frame.DataFrame'>\n",
      "RangeIndex: 6807 entries, 0 to 6806\n",
      "Data columns (total 5 columns):\n",
      " #   Column               Non-Null Count  Dtype \n",
      "---  ------               --------------  ----- \n",
      " 0   document             6807 non-null   int64 \n",
      " 1   full_text            6807 non-null   object\n",
      " 2   tokens               6807 non-null   object\n",
      " 3   trailing_whitespace  6807 non-null   object\n",
      " 4   labels               6807 non-null   object\n",
      "dtypes: int64(1), object(4)\n",
      "memory usage: 266.0+ KB\n",
      "None\n",
      "\n",
      "Dataset Statistics:\n"
     ]
    },
    {
     "data": {
      "text/html": [
       "<div>\n",
       "<style scoped>\n",
       "    .dataframe tbody tr th:only-of-type {\n",
       "        vertical-align: middle;\n",
       "    }\n",
       "\n",
       "    .dataframe tbody tr th {\n",
       "        vertical-align: top;\n",
       "    }\n",
       "\n",
       "    .dataframe thead th {\n",
       "        text-align: right;\n",
       "    }\n",
       "</style>\n",
       "<table border=\"1\" class=\"dataframe\">\n",
       "  <thead>\n",
       "    <tr style=\"text-align: right;\">\n",
       "      <th></th>\n",
       "      <th>document</th>\n",
       "    </tr>\n",
       "  </thead>\n",
       "  <tbody>\n",
       "    <tr>\n",
       "      <th>count</th>\n",
       "      <td>6807.000000</td>\n",
       "    </tr>\n",
       "    <tr>\n",
       "      <th>mean</th>\n",
       "      <td>14739.782283</td>\n",
       "    </tr>\n",
       "    <tr>\n",
       "      <th>std</th>\n",
       "      <td>4920.715769</td>\n",
       "    </tr>\n",
       "    <tr>\n",
       "      <th>min</th>\n",
       "      <td>7.000000</td>\n",
       "    </tr>\n",
       "    <tr>\n",
       "      <th>25%</th>\n",
       "      <td>11061.500000</td>\n",
       "    </tr>\n",
       "    <tr>\n",
       "      <th>50%</th>\n",
       "      <td>14818.000000</td>\n",
       "    </tr>\n",
       "    <tr>\n",
       "      <th>75%</th>\n",
       "      <td>18974.000000</td>\n",
       "    </tr>\n",
       "    <tr>\n",
       "      <th>max</th>\n",
       "      <td>22687.000000</td>\n",
       "    </tr>\n",
       "  </tbody>\n",
       "</table>\n",
       "</div>"
      ],
      "text/plain": [
       "           document\n",
       "count   6807.000000\n",
       "mean   14739.782283\n",
       "std     4920.715769\n",
       "min        7.000000\n",
       "25%    11061.500000\n",
       "50%    14818.000000\n",
       "75%    18974.000000\n",
       "max    22687.000000"
      ]
     },
     "metadata": {},
     "output_type": "display_data"
    },
    {
     "data": {
      "image/png": "[encoded data removed]",
      "text/plain": [
       "<Figure size 1200x600 with 1 Axes>"
      ]
     },
     "metadata": {},
     "output_type": "display_data"
    },
    {
     "data": {
      "image/png": "[encoded data removed]",
      "text/plain": [
       "<Figure size 1000x600 with 1 Axes>"
      ]
     },
     "metadata": {},
     "output_type": "display_data"
    },
    {
     "data": {
      "image/png": "[encoded data removed]",
      "text/plain": [
       "<Figure size 1000x600 with 1 Axes>"
      ]
     },
     "metadata": {},
     "output_type": "display_data"
    },
    {
     "data": {
      "image/png": "[encoded data removed]",
      "text/plain": [
       "<Figure size 800x800 with 1 Axes>"
      ]
     },
     "metadata": {},
     "output_type": "display_data"
    },
    {
     "data": {
      "image/png": "[encoded data removed]",
      "text/plain": [
       "<Figure size 800x600 with 2 Axes>"
      ]
     },
     "metadata": {},
     "output_type": "display_data"
    }
   ],
   "source": [
    "# Load and Prepare Data\n",
    "data_path = 'dataset/train.csv'\n",
    "data = pd.read_csv(data_path)\n",
    "\n",
    "# Display the first few rows\n",
    "print(\"Sample Data:\")\n",
    "display(data.head())\n",
    "\n",
    "# 3. Exploratory Data Analysis (EDA)\n",
    "\n",
    "# 3.1 Overview of Data\n",
    "print(\"\\nDataset Overview:\")\n",
    "print(data.info())\n",
    "\n",
    "print(\"\\nDataset Statistics:\")\n",
    "display(data.describe())\n",
    "\n",
    "\n",
    "\n",
    "# Additional EDA - 3.4 Token Frequency Distribution\n",
    "from collections import Counter\n",
    "\n",
    "def get_token_frequency(data):\n",
    "    token_counter = Counter()\n",
    "    for tokens in data['tokens']:\n",
    "        try:\n",
    "            tokens_list = ast.literal_eval(tokens)\n",
    "            token_counter.update(tokens_list)\n",
    "        except:\n",
    "            continue\n",
    "    return token_counter\n",
    "\n",
    "# Calculate token frequencies\n",
    "token_counter = get_token_frequency(data)\n",
    "top_tokens = token_counter.most_common(20)\n",
    "\n",
    "# Plot top tokens\n",
    "plt.figure(figsize=(12, 6))\n",
    "sns.barplot(x=[token[0] for token in top_tokens], y=[token[1] for token in top_tokens])\n",
    "plt.title(\"Top 20 Most Common Tokens\")\n",
    "plt.xlabel(\"Tokens\")\n",
    "plt.ylabel(\"Frequency\")\n",
    "plt.xticks(rotation=45)\n",
    "plt.show()\n",
    "\n",
    "# 3.5 Top Labels Per Sentence\n",
    "def labels_per_sentence(data):\n",
    "    labels_count = []\n",
    "    for labels in data['labels']:\n",
    "        try:\n",
    "            labels_list = ast.literal_eval(labels)\n",
    "            labels_count.append(len([label for label in labels_list if label != 'O']))\n",
    "        except:\n",
    "            continue\n",
    "    return labels_count\n",
    "\n",
    "# Calculate label count per sentence\n",
    "labels_count = labels_per_sentence(data)\n",
    "\n",
    "# Plot label count per sentence\n",
    "plt.figure(figsize=(10, 6))\n",
    "sns.histplot(labels_count, bins=20, kde=True)\n",
    "plt.title(\"Distribution of Labels Per Sentence\")\n",
    "plt.xlabel(\"Number of Labels\")\n",
    "plt.ylabel(\"Frequency\")\n",
    "plt.show()\n",
    "\n",
    "# 3.6 Full Text Length Distribution\n",
    "def text_length_distribution(data):\n",
    "    text_lengths = data['full_text'].apply(len)\n",
    "    return text_lengths\n",
    "\n",
    "# Calculate text lengths\n",
    "text_lengths = text_length_distribution(data)\n",
    "\n",
    "# Plot full text lengths\n",
    "plt.figure(figsize=(10, 6))\n",
    "sns.histplot(text_lengths, bins=30, kde=True)\n",
    "plt.title(\"Full Text Length Distribution\")\n",
    "plt.xlabel(\"Number of Characters in Full Text\")\n",
    "plt.ylabel(\"Frequency\")\n",
    "plt.show()\n",
    "\n",
    "# 3.7 Pie Chart of Labels\n",
    "plt.figure(figsize=(8, 8))\n",
    "plt.title(\"Label Distribution (Pie Chart)\")\n",
    "plt.pie(label_counts, labels=label_counts.index, autopct=\"%1.1f%%\", startangle=140)\n",
    "plt.show()\n",
    "\n",
    "# 3.8 Heatmap of Token Length vs Label Count\n",
    "import numpy as np\n",
    "\n",
    "# Prepare heatmap data\n",
    "heatmap_data = pd.DataFrame({\n",
    "    'Token_Length': token_lengths,\n",
    "    'Labels_Per_Sentence': labels_count\n",
    "})\n",
    "\n",
    "# Plot heatmap\n",
    "plt.figure(figsize=(8, 6))\n",
    "sns.heatmap(heatmap_data.corr(), annot=True, cmap='coolwarm')\n",
    "plt.title(\"Correlation Heatmap: Token Length vs Labels Per Sentence\")\n",
    "plt.show()\n",
    "\n",
    "\n",
    "\n"
   ]
  },
  {
   "cell_type": "markdown",
   "metadata": {},
   "source": [
    "## Convert Data to spaCy Format"
   ]
  },
  {
   "cell_type": "code",
   "execution_count": 8,
   "metadata": {},
   "outputs": [
    {
     "name": "stderr",
     "output_type": "stream",
     "text": [
      "100%|██████████| 6807/6807 [00:47<00:00, 143.31it/s]\n"
     ]
    }
   ],
   "source": [
    "# Function to convert data to spaCy's training format\n",
    "def convert_to_spacy_format(data):\n",
    "    db = DocBin()\n",
    "    for _, row in tqdm(data.iterrows(), total=len(data)):\n",
    "        doc = nlp.make_doc(row['full_text'])\n",
    "        ents = []\n",
    "        try:\n",
    "            tokens = ast.literal_eval(row['tokens'])\n",
    "            labels = ast.literal_eval(row['labels'])\n",
    "            start_idx = 0\n",
    "            for token, label in zip(tokens, labels):\n",
    "                if label != 'O':\n",
    "                    token_start = row['full_text'].find(token, start_idx)\n",
    "                    if token_start != -1:\n",
    "                        token_end = token_start + len(token)\n",
    "                        ents.append((token_start, token_end, label))\n",
    "                    start_idx = token_start + len(token)\n",
    "            doc.ents = ents\n",
    "            db.add(doc)\n",
    "        except Exception as e:\n",
    "            continue\n",
    "    return db\n",
    "\n",
    "# Initialize spaCy model\n",
    "nlp = spacy.blank(\"en\")\n",
    "\n",
    "# Convert data to spaCy format\n",
    "train_data = convert_to_spacy_format(data)\n",
    "\n",
    "# Save the converted training data\n",
    "train_data.to_disk(\"./training_data.spacy\")"
   ]
  },
  {
   "cell_type": "markdown",
   "metadata": {},
   "source": [
    "## Initialize spaCy Model"
   ]
  },
  {
   "cell_type": "code",
   "execution_count": 9,
   "metadata": {},
   "outputs": [],
   "source": [
    "# Create a new blank model with the NER pipeline\n",
    "nlp_ner = spacy.blank(\"en\")\n",
    "ner = nlp_ner.add_pipe(\"ner\")"
   ]
  },
  {
   "cell_type": "markdown",
   "metadata": {},
   "source": [
    "## Add labels to the NER model"
   ]
  },
  {
   "cell_type": "code",
   "execution_count": 10,
   "metadata": {},
   "outputs": [],
   "source": [
    "# Add labels to the NER model\n",
    "for _, row in data.iterrows():\n",
    "    try:\n",
    "        labels = ast.literal_eval(row['labels'])\n",
    "        for label in labels:\n",
    "            if label != 'O' and not ner.has_label(label):\n",
    "                ner.add_label(label)\n",
    "    except:\n",
    "        continue"
   ]
  },
  {
   "cell_type": "markdown",
   "metadata": {},
   "source": [
    "## Train the Mode"
   ]
  },
  {
   "cell_type": "code",
   "execution_count": null,
   "metadata": {},
   "outputs": [],
   "source": [
    "# Training settings\n",
    "n_iter = 30\n",
    "batch_size = 1000\n",
    "\n",
    "# Train the model\n",
    "optimizer = nlp_ner.begin_training()\n",
    "loss_history = []  # To track losses\n",
    "\n",
    "for i in range(n_iter):\n",
    "    losses = {}\n",
    "    docs = list(train_data.get_docs(nlp_ner.vocab))\n",
    "    for batch in tqdm(spacy.util.minibatch(docs, size=batch_size), desc=f\"Iteration {i}\"):\n",
    "        examples = []\n",
    "        for doc in batch:\n",
    "            examples.append(Example.from_dict(doc, {\"entities\": [(ent.start_char, ent.end_char, ent.label_) for ent in doc.ents]}))\n",
    "        nlp_ner.update(examples, drop=0.5, losses=losses)\n",
    "    print(f\"Losses at iteration {i}: {losses}\")\n",
    "    loss_history.append(losses['ner'])"
   ]
  },
  {
   "cell_type": "markdown",
   "metadata": {},
   "source": [
    "## Save the trained model"
   ]
  },
  {
   "cell_type": "code",
   "execution_count": null,
   "metadata": {},
   "outputs": [],
   "source": [
    "# Save the trained model\n",
    "output_dir = \"./ner_model\"\n",
    "if not os.path.exists(output_dir):\n",
    "    os.makedirs(output_dir)\n",
    "nlp_ner.to_disk(output_dir)"
   ]
  },
  {
   "cell_type": "markdown",
   "metadata": {},
   "source": [
    "## Plot the training loss over iterations"
   ]
  },
  {
   "cell_type": "code",
   "execution_count": null,
   "metadata": {},
   "outputs": [],
   "source": [
    "# Plot the training loss over iterations\n",
    "plt.figure(figsize=(10, 6))\n",
    "plt.plot(range(n_iter), loss_history, marker='o')\n",
    "plt.title('Training Loss Over Iterations')\n",
    "plt.xlabel('Iteration')\n",
    "plt.ylabel('Loss')\n",
    "plt.grid()\n",
    "plt.show()"
   ]
  },
  {
   "cell_type": "code",
   "execution_count": 2,
   "metadata": {},
   "outputs": [
    {
     "name": "stderr",
     "output_type": "stream",
     "text": [
      "100%|██████████| 6807/6807 [00:48<00:00, 141.43it/s]\n",
      "Iteration 0: 6it [07:06, 71.04s/it]\n"
     ]
    },
    {
     "name": "stdout",
     "output_type": "stream",
     "text": [
      "Losses at iteration 0: {'ner': np.float32(1382361.1)}\n"
     ]
    },
    {
     "name": "stderr",
     "output_type": "stream",
     "text": [
      "Iteration 1: 6it [07:03, 70.55s/it]\n"
     ]
    },
    {
     "name": "stdout",
     "output_type": "stream",
     "text": [
      "Losses at iteration 1: {'ner': np.float32(154662.56)}\n"
     ]
    },
    {
     "name": "stderr",
     "output_type": "stream",
     "text": [
      "Iteration 2: 6it [06:44, 67.42s/it]\n"
     ]
    },
    {
     "name": "stdout",
     "output_type": "stream",
     "text": [
      "Losses at iteration 2: {'ner': np.float32(117.48149)}\n"
     ]
    },
    {
     "name": "stderr",
     "output_type": "stream",
     "text": [
      "Iteration 3: 6it [06:45, 67.57s/it]\n"
     ]
    },
    {
     "name": "stdout",
     "output_type": "stream",
     "text": [
      "Losses at iteration 3: {'ner': np.float32(8.280855e-07)}\n"
     ]
    },
    {
     "name": "stderr",
     "output_type": "stream",
     "text": [
      "Iteration 4: 6it [06:44, 67.35s/it]\n"
     ]
    },
    {
     "name": "stdout",
     "output_type": "stream",
     "text": [
      "Losses at iteration 4: {'ner': np.float32(8.26958e-22)}\n"
     ]
    },
    {
     "name": "stderr",
     "output_type": "stream",
     "text": [
      "Iteration 5: 6it [06:55, 69.22s/it]\n"
     ]
    },
    {
     "name": "stdout",
     "output_type": "stream",
     "text": [
      "Losses at iteration 5: {'ner': np.float32(1.6037158e-29)}\n"
     ]
    },
    {
     "name": "stderr",
     "output_type": "stream",
     "text": [
      "Iteration 6: 6it [09:50, 98.38s/it] \n"
     ]
    },
    {
     "name": "stdout",
     "output_type": "stream",
     "text": [
      "Losses at iteration 6: {'ner': np.float32(4.5198467e-37)}\n"
     ]
    },
    {
     "name": "stderr",
     "output_type": "stream",
     "text": [
      "Iteration 7: 6it [16:35, 165.85s/it]\n"
     ]
    },
    {
     "name": "stdout",
     "output_type": "stream",
     "text": [
      "Losses at iteration 7: {'ner': np.float32(5.999336e-39)}\n"
     ]
    },
    {
     "name": "stderr",
     "output_type": "stream",
     "text": [
      "Iteration 8: 6it [25:14, 252.37s/it]\n"
     ]
    },
    {
     "name": "stdout",
     "output_type": "stream",
     "text": [
      "Losses at iteration 8: {'ner': np.float32(2.87e-43)}\n"
     ]
    },
    {
     "name": "stderr",
     "output_type": "stream",
     "text": [
      "Iteration 9: 6it [31:31, 315.20s/it]\n"
     ]
    },
    {
     "name": "stdout",
     "output_type": "stream",
     "text": [
      "Losses at iteration 9: {'ner': np.float32(1.23e-43)}\n"
     ]
    },
    {
     "name": "stderr",
     "output_type": "stream",
     "text": [
      "Iteration 10: 6it [38:50, 388.49s/it]\n"
     ]
    },
    {
     "name": "stdout",
     "output_type": "stream",
     "text": [
      "Losses at iteration 10: {'ner': np.float32(3.9e-44)}\n"
     ]
    },
    {
     "name": "stderr",
     "output_type": "stream",
     "text": [
      "Iteration 11: 6it [37:43, 377.19s/it]\n"
     ]
    },
    {
     "name": "stdout",
     "output_type": "stream",
     "text": [
      "Losses at iteration 11: {'ner': np.float32(4.6e-44)}\n"
     ]
    },
    {
     "name": "stderr",
     "output_type": "stream",
     "text": [
      "Iteration 12: 6it [39:43, 397.30s/it]\n"
     ]
    },
    {
     "name": "stdout",
     "output_type": "stream",
     "text": [
      "Losses at iteration 12: {'ner': np.float32(1e-45)}\n"
     ]
    },
    {
     "name": "stderr",
     "output_type": "stream",
     "text": [
      "Iteration 13: 6it [41:22, 413.69s/it]\n"
     ]
    },
    {
     "name": "stdout",
     "output_type": "stream",
     "text": [
      "Losses at iteration 13: {'ner': np.float32(7e-45)}\n"
     ]
    },
    {
     "name": "stderr",
     "output_type": "stream",
     "text": [
      "Iteration 14: 6it [42:20, 423.37s/it]\n"
     ]
    },
    {
     "name": "stdout",
     "output_type": "stream",
     "text": [
      "Losses at iteration 14: {'ner': np.float32(3.8e-44)}\n"
     ]
    },
    {
     "name": "stderr",
     "output_type": "stream",
     "text": [
      "Iteration 15: 6it [40:16, 402.72s/it]\n"
     ]
    },
    {
     "name": "stdout",
     "output_type": "stream",
     "text": [
      "Losses at iteration 15: {'ner': np.float32(1.4e-44)}\n"
     ]
    },
    {
     "name": "stderr",
     "output_type": "stream",
     "text": [
      "Iteration 16: 6it [43:28, 434.68s/it]\n"
     ]
    },
    {
     "name": "stdout",
     "output_type": "stream",
     "text": [
      "Losses at iteration 16: {'ner': np.float32(4e-45)}\n"
     ]
    },
    {
     "name": "stderr",
     "output_type": "stream",
     "text": [
      "Iteration 17: 6it [41:11, 411.91s/it]\n"
     ]
    },
    {
     "name": "stdout",
     "output_type": "stream",
     "text": [
      "Losses at iteration 17: {'ner': np.float32(5.66e-43)}\n"
     ]
    },
    {
     "name": "stderr",
     "output_type": "stream",
     "text": [
      "Iteration 18: 6it [1:02:38, 626.40s/it]\n"
     ]
    },
    {
     "name": "stdout",
     "output_type": "stream",
     "text": [
      "Losses at iteration 18: {'ner': np.float32(5.89e-43)}\n"
     ]
    },
    {
     "name": "stderr",
     "output_type": "stream",
     "text": [
      "Iteration 19: 6it [1:04:10, 641.81s/it]\n"
     ]
    },
    {
     "name": "stdout",
     "output_type": "stream",
     "text": [
      "Losses at iteration 19: {'ner': np.float32(1.96e-43)}\n"
     ]
    },
    {
     "name": "stderr",
     "output_type": "stream",
     "text": [
      "Iteration 20: 6it [41:12, 412.15s/it]\n"
     ]
    },
    {
     "name": "stdout",
     "output_type": "stream",
     "text": [
      "Losses at iteration 20: {'ner': np.float32(3.62e-43)}\n"
     ]
    },
    {
     "name": "stderr",
     "output_type": "stream",
     "text": [
      "Iteration 21: 6it [38:13, 382.28s/it]\n"
     ]
    },
    {
     "name": "stdout",
     "output_type": "stream",
     "text": [
      "Losses at iteration 21: {'ner': np.float32(7.8e-44)}\n"
     ]
    },
    {
     "name": "stderr",
     "output_type": "stream",
     "text": [
      "Iteration 22: 6it [38:13, 382.23s/it]\n"
     ]
    },
    {
     "name": "stdout",
     "output_type": "stream",
     "text": [
      "Losses at iteration 22: {'ner': np.float32(2.26e-43)}\n"
     ]
    },
    {
     "name": "stderr",
     "output_type": "stream",
     "text": [
      "Iteration 23: 6it [38:52, 388.80s/it]\n"
     ]
    },
    {
     "name": "stdout",
     "output_type": "stream",
     "text": [
      "Losses at iteration 23: {'ner': np.float32(4e-45)}\n"
     ]
    },
    {
     "name": "stderr",
     "output_type": "stream",
     "text": [
      "Iteration 24: 6it [38:20, 383.47s/it]\n"
     ]
    },
    {
     "name": "stdout",
     "output_type": "stream",
     "text": [
      "Losses at iteration 24: {'ner': np.float32(1e-44)}\n"
     ]
    },
    {
     "name": "stderr",
     "output_type": "stream",
     "text": [
      "Iteration 25: 6it [39:42, 397.07s/it]\n"
     ]
    },
    {
     "name": "stdout",
     "output_type": "stream",
     "text": [
      "Losses at iteration 25: {'ner': np.float32(4e-45)}\n"
     ]
    },
    {
     "name": "stderr",
     "output_type": "stream",
     "text": [
      "Iteration 26: 6it [38:29, 384.97s/it]\n"
     ]
    },
    {
     "name": "stdout",
     "output_type": "stream",
     "text": [
      "Losses at iteration 26: {'ner': np.float32(3e-45)}\n"
     ]
    },
    {
     "name": "stderr",
     "output_type": "stream",
     "text": [
      "Iteration 27: 6it [39:10, 391.71s/it]\n"
     ]
    },
    {
     "name": "stdout",
     "output_type": "stream",
     "text": [
      "Losses at iteration 27: {'ner': np.float32(6e-45)}\n"
     ]
    },
    {
     "name": "stderr",
     "output_type": "stream",
     "text": [
      "Iteration 28: 6it [41:12, 412.11s/it]\n"
     ]
    },
    {
     "name": "stdout",
     "output_type": "stream",
     "text": [
      "Losses at iteration 28: {'ner': np.float32(1e-45)}\n"
     ]
    },
    {
     "name": "stderr",
     "output_type": "stream",
     "text": [
      "Iteration 29: 6it [40:54, 409.11s/it]"
     ]
    },
    {
     "name": "stdout",
     "output_type": "stream",
     "text": [
      "Losses at iteration 29: {'ner': np.float32(1.37e-43)}\n"
     ]
    },
    {
     "name": "stderr",
     "output_type": "stream",
     "text": [
      "\n"
     ]
    }
   ],
   "source": [
    "import spacy\n",
    "from spacy.tokens import DocBin\n",
    "from spacy.training import Example\n",
    "from tqdm import tqdm\n",
    "import ast\n",
    "import pandas as pd\n",
    "import os\n",
    "\n",
    "# Load and prepare the data\n",
    "data_path = 'dataset/train.csv'\n",
    "data = pd.read_csv(data_path)\n",
    "\n",
    "# Function to convert data to spaCy's training format\n",
    "def convert_to_spacy_format(data):\n",
    "    db = DocBin()\n",
    "    for _, row in tqdm(data.iterrows(), total=len(data)):\n",
    "        doc = nlp.make_doc(row['full_text'])\n",
    "        ents = []\n",
    "        try:\n",
    "            tokens = ast.literal_eval(row['tokens'])\n",
    "            labels = ast.literal_eval(row['labels'])\n",
    "            \n",
    "            start_idx = 0\n",
    "            for token, label in zip(tokens, labels):\n",
    "                if label != 'O':\n",
    "                    token_start = row['full_text'].find(token, start_idx)\n",
    "                    if token_start != -1:\n",
    "                        token_end = token_start + len(token)\n",
    "                        ents.append((token_start, token_end, label))\n",
    "                    start_idx = token_start + len(token)\n",
    "            \n",
    "            doc.ents = ents\n",
    "            db.add(doc)\n",
    "        except Exception as e:\n",
    "            continue\n",
    "    \n",
    "    return db\n",
    "\n",
    "# Initialize spaCy model\n",
    "nlp = spacy.blank(\"en\")\n",
    "\n",
    "# Convert data to spaCy format\n",
    "train_data = convert_to_spacy_format(data)\n",
    "\n",
    "# Save the converted training data\n",
    "train_data.to_disk(\"./training_data.spacy\")\n",
    "\n",
    "# Create a new blank model with the NER pipeline\n",
    "nlp_ner = spacy.blank(\"en\")\n",
    "ner = nlp_ner.add_pipe(\"ner\")\n",
    "\n",
    "# Add labels to the NER model\n",
    "for _, row in data.iterrows():\n",
    "    try:\n",
    "        labels = ast.literal_eval(row['labels'])\n",
    "        for label in labels:\n",
    "            if label != 'O' and not ner.has_label(label):\n",
    "                ner.add_label(label)\n",
    "    except:\n",
    "        continue\n",
    "\n",
    "# Training settings\n",
    "n_iter = 30\n",
    "batch_size = 1000\n",
    "\n",
    "# Train the model\n",
    "optimizer = nlp_ner.begin_training()\n",
    "for i in range(n_iter):\n",
    "    losses = {}\n",
    "    docs = list(train_data.get_docs(nlp_ner.vocab))\n",
    "    for batch in tqdm(spacy.util.minibatch(docs, size=batch_size), desc=f\"Iteration {i}\"):\n",
    "        examples = []\n",
    "        for doc in batch:\n",
    "            examples.append(Example.from_dict(doc, {\"entities\": [(ent.start_char, ent.end_char, ent.label_) for ent in doc.ents]}))\n",
    "        nlp_ner.update(examples, drop=0.5, losses=losses)\n",
    "    print(f\"Losses at iteration {i}: {losses}\")\n",
    "\n",
    "# Save the trained model\n",
    "output_dir = \"./ner_model\"\n",
    "if not os.path.exists(output_dir):\n",
    "    os.makedirs(output_dir)\n"
   ]
  }
 ],
 "metadata": {
  "kernelspec": {
   "display_name": ".venv",
   "language": "python",
   "name": "python3"
  },
  "language_info": {
   "codemirror_mode": {
    "name": "ipython",
    "version": 3
   },
   "file_extension": ".py",
   "mimetype": "text/x-python",
   "name": "python",
   "nbconvert_exporter": "python",
   "pygments_lexer": "ipython3",
   "version": "3.12.4"
  }
 },
 "nbformat": 4,
 "nbformat_minor": 2
}
